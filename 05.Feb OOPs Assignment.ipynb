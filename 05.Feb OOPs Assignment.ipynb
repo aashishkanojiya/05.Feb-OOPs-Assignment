{
  "metadata": {
    "kernelspec": {
      "name": "python",
      "display_name": "Python (Pyodide)",
      "language": "python"
    },
    "language_info": {
      "codemirror_mode": {
        "name": "python",
        "version": 3
      },
      "file_extension": ".py",
      "mimetype": "text/x-python",
      "name": "python",
      "nbconvert_exporter": "python",
      "pygments_lexer": "ipython3",
      "version": "3.8"
    }
  },
  "nbformat_minor": 4,
  "nbformat": 4,
  "cells": [
    {
      "cell_type": "markdown",
      "source": "Q1. Explain Class and Object with respect to Object-Oriented Programming. Give a suitable example.",
      "metadata": {}
    },
    {
      "cell_type": "markdown",
      "source": "Class:-\nA class is a user-defined blueprint or prototype from which objects are created. Classes provide a means of bundling data and functionality together. Creating a new class creates a new type of object, allowing new instances of that type to be made\n\nExample:-",
      "metadata": {}
    },
    {
      "cell_type": "code",
      "source": "class Car:\n    def __init__(self, color, model, year):\n        self.color = color\n        self.model = model\n        self.year = year\n\n    def start(self):\n        print(\"The car has started.\")\n\n    def stop(self):\n        print(\"The car has stopped.\")\n",
      "metadata": {
        "trusted": true
      },
      "outputs": [],
      "execution_count": 1
    },
    {
      "cell_type": "markdown",
      "source": "In the example above, Car is a class with an initializer method __init__ to set up the attributes, and two additional methods: start() and stop()",
      "metadata": {}
    },
    {
      "cell_type": "markdown",
      "source": "Object:-\nObjects are variables that contain data and functions that can be used to manipulate the data. The object's data can vary in type (string, integer).Depending on how it's been defined. An object is like a mini-program inside python, with its own set of rules and behaviors.\n\nExample:-",
      "metadata": {}
    },
    {
      "cell_type": "code",
      "source": "car1 = Car(\"Red\", \"Toyota inova\", 2020)\ncar2 = Car(\"Blue\", \"Honda civic\", 2019)\n\nprint(car1.color) \nprint(car2.model) \n\ncar1.start()  \ncar2.stop()   \n",
      "metadata": {
        "trusted": true
      },
      "outputs": [
        {
          "name": "stdout",
          "text": "Red\nHonda civic\nThe car has started.\nThe car has stopped.\n",
          "output_type": "stream"
        }
      ],
      "execution_count": 9
    },
    {
      "cell_type": "markdown",
      "source": "car1 and car2 are objects of the Car class.Each object has its own values for the properties (like color and model).\nBoth objects can use the methods start and stop defined in the class Car.",
      "metadata": {}
    },
    {
      "cell_type": "markdown",
      "source": "Q2. Name the four pillars of OOPs.",
      "metadata": {}
    },
    {
      "cell_type": "markdown",
      "source": "Answer:- The Four Pillars of OOPs are as follows\n1.Encapsulation\n2.Inheritance\n3.Polymorphism\n4.Abstraction",
      "metadata": {}
    },
    {
      "cell_type": "markdown",
      "source": "Q3. Explain why the __init__() function is used. Give a suitable example.",
      "metadata": {}
    },
    {
      "cell_type": "markdown",
      "source": "Answer:-The __init__() function, also known as the constructor, is a special method in Python classes,and it’s called automatically when a new instance of the class is created. It allows you to set the initial state of the object by assigning values to its properties.\n\nExample:-",
      "metadata": {}
    },
    {
      "cell_type": "code",
      "source": "class Car:\n    def __init__(self, make, model, year):\n        self.make = make\n        self.model = model\n        self.year = year\n\n    def display_info(self):\n        print(f\"Car: {self.year} {self.make} {self.model}\")\n\nmy_car = Car(\"Toyota\", \"inova\", 2022)\nmy_car.display_info()",
      "metadata": {
        "trusted": true
      },
      "outputs": [
        {
          "name": "stdout",
          "text": "Car: 2022 Toyota inova\n",
          "output_type": "stream"
        }
      ],
      "execution_count": 11
    },
    {
      "cell_type": "markdown",
      "source": "In the above example:- The __init__() method initializes a Car object with the make, model, and year. When we create a new Car instance my_car, the __init__() method is automatically called, setting the initial state of my_car. Then, we can use the display_info() method to print out the car's details.",
      "metadata": {}
    },
    {
      "cell_type": "markdown",
      "source": "Q4.Why self is used in OOPs?",
      "metadata": {}
    },
    {
      "cell_type": "markdown",
      "source": "Answer:- In OOPs self keyword is used to reference to the current instance of a class. It allows each instance (object) to access its own attributes and methods and to distinguish those attributes from local variables within methods.",
      "metadata": {}
    },
    {
      "cell_type": "markdown",
      "source": "Q5. What is inheritance? Give an example for each type of inheritance.",
      "metadata": {}
    },
    {
      "cell_type": "markdown",
      "source": "Answer:- Inheritance is a mechanism where a new class, known as a derived or child class, inherits attributes and methods from an existing class, known as a base or parent class. This promotes code reuse and hierarchical classification.\n\nTypes of inheritance are as follows:-\n1.Single Inheritance\n2.Multiple Inheritance\n3.Multilevel Inheritance\n4.Hierarchical Inheritance\n5.Hybrid Inheritance\n\n\nexamples:-",
      "metadata": {}
    },
    {
      "cell_type": "code",
      "source": "##Single Inheritance\n\nclass Animal:\n    def eat(self):\n        print(\"Eating\")\n\nclass Dog(Animal):\n    def bark(self):\n        print(\"Barking\")\n\nmy_dog = Dog()\nmy_dog.eat()  \nmy_dog.bark()  ",
      "metadata": {
        "trusted": true
      },
      "outputs": [
        {
          "name": "stdout",
          "text": "Eating\nBarking\n",
          "output_type": "stream"
        }
      ],
      "execution_count": 13
    },
    {
      "cell_type": "code",
      "source": "## Multiple Inheritance\nclass Engine:\n    def start_engine(self):\n        print(\"Engine started.\")\n\nclass Wheels:\n    def move(self):\n        print(\"The vehicle is moving.\")\n\nclass Car(Engine, Wheels): \n    def drive(self):\n        print(\"Car is being driven.\")\n\n\ncar = Car()\ncar.start_engine()  \ncar.move()          \ncar.drive()         \n",
      "metadata": {
        "trusted": true
      },
      "outputs": [
        {
          "name": "stdout",
          "text": "Engine started.\nThe vehicle is moving.\nCar is being driven.\n",
          "output_type": "stream"
        }
      ],
      "execution_count": 18
    },
    {
      "cell_type": "code",
      "source": "##Multilevel Inheritance\nclass Animal:\n    def eat(self):\n        print(\"Eating\")\n\nclass Mammal(Animal):\n    def sleep(self):\n        print(\"Sleeping\")\n\nclass Dog(Mammal):\n    def bark(self):\n        print(\"Barking\")\n\nmy_dog = Dog()\nmy_dog.eat()  \nmy_dog.sleep()  \nmy_dog.bark()  \n",
      "metadata": {
        "trusted": true
      },
      "outputs": [
        {
          "name": "stdout",
          "text": "Eating\nSleeping\nBarking\n",
          "output_type": "stream"
        }
      ],
      "execution_count": 15
    },
    {
      "cell_type": "code",
      "source": "## Hierarchical Inheritance\n\nclass Animal:\n    def sound(self):\n        print(\"This is an animal sound.\")\n\nclass Dog(Animal): \n    def bark(self):\n        print(\"Woof! Woof!\")\n\nclass Cat(Animal):  \n    def meow(self):\n        print(\"Meow! Meow!\")\n\n\ndog = Dog()\ncat = Cat()\n\ndog.sound()  \ndog.bark()   \n\ncat.sound()  \ncat.meow()   \n",
      "metadata": {
        "trusted": true
      },
      "outputs": [
        {
          "name": "stdout",
          "text": "This is an animal sound.\nWoof! Woof!\nThis is an animal sound.\nMeow! Meow!\n",
          "output_type": "stream"
        }
      ],
      "execution_count": 19
    },
    {
      "cell_type": "code",
      "source": "## Hybrid Inheritance\nclass Animal:\n    def eat(self):\n        print(\"Eating\")\n\nclass Mammal(Animal):\n    def sleep(self):\n        print(\"Sleeping\")\n\nclass Bird(Animal):\n    def fly(self):\n        print(\"Flying\")\n\nclass Bat(Mammal, Bird):\n    def sonar(self):\n        print(\"Using sonar\")\n\nmy_bat = Bat()\nmy_bat.eat()  \nmy_bat.sleep()  \nmy_bat.fly()  \nmy_bat.sonar() \n",
      "metadata": {
        "trusted": true
      },
      "outputs": [
        {
          "name": "stdout",
          "text": "Eating\nSleeping\nFlying\nUsing sonar\n",
          "output_type": "stream"
        }
      ],
      "execution_count": 20
    },
    {
      "cell_type": "code",
      "source": "",
      "metadata": {
        "trusted": true
      },
      "outputs": [],
      "execution_count": null
    }
  ]
}